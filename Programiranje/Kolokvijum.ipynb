{
 "cells": [
  {
   "cell_type": "code",
   "execution_count": 1,
   "id": "be05b787-96e3-420c-a01a-250ba165aa07",
   "metadata": {
    "tags": []
   },
   "outputs": [],
   "source": [
    "import pandas as pd\n",
    "import numpy as np"
   ]
  },
  {
   "cell_type": "code",
   "execution_count": 2,
   "id": "877d250f-8f65-4207-95ce-0a9a89a17256",
   "metadata": {
    "tags": []
   },
   "outputs": [],
   "source": [
    "df = pd.read_csv('klk_rezultati.csv')"
   ]
  },
  {
   "cell_type": "code",
   "execution_count": 3,
   "id": "85f3297c-bbb5-420c-ab7c-e5336abac799",
   "metadata": {},
   "outputs": [
    {
     "data": {
      "text/html": [
       "<div>\n",
       "<style scoped>\n",
       "    .dataframe tbody tr th:only-of-type {\n",
       "        vertical-align: middle;\n",
       "    }\n",
       "\n",
       "    .dataframe tbody tr th {\n",
       "        vertical-align: top;\n",
       "    }\n",
       "\n",
       "    .dataframe thead th {\n",
       "        text-align: right;\n",
       "    }\n",
       "</style>\n",
       "<table border=\"1\" class=\"dataframe\">\n",
       "  <thead>\n",
       "    <tr style=\"text-align: right;\">\n",
       "      <th></th>\n",
       "      <th>Број индекса</th>\n",
       "      <th>Презиме и име</th>\n",
       "      <th>П1</th>\n",
       "      <th>П2</th>\n",
       "      <th>П3</th>\n",
       "      <th>П4</th>\n",
       "      <th>П5</th>\n",
       "      <th>П</th>\n",
       "    </tr>\n",
       "  </thead>\n",
       "  <tbody>\n",
       "    <tr>\n",
       "      <th>0</th>\n",
       "      <td>1987/0645</td>\n",
       "      <td>Поповић Владица</td>\n",
       "      <td>-1.25</td>\n",
       "      <td>-1.25</td>\n",
       "      <td>-1.25</td>\n",
       "      <td>5.00</td>\n",
       "      <td>-1.25</td>\n",
       "      <td>0.0</td>\n",
       "    </tr>\n",
       "    <tr>\n",
       "      <th>1</th>\n",
       "      <td>2011/0554</td>\n",
       "      <td>Јовановић Стефан</td>\n",
       "      <td>5.00</td>\n",
       "      <td>-1.25</td>\n",
       "      <td>5.00</td>\n",
       "      <td>-1.25</td>\n",
       "      <td>0.00</td>\n",
       "      <td>7.5</td>\n",
       "    </tr>\n",
       "    <tr>\n",
       "      <th>2</th>\n",
       "      <td>2014/0662</td>\n",
       "      <td>Шушљик Стефан</td>\n",
       "      <td>-1.25</td>\n",
       "      <td>5.00</td>\n",
       "      <td>-1.25</td>\n",
       "      <td>5.00</td>\n",
       "      <td>0.00</td>\n",
       "      <td>7.5</td>\n",
       "    </tr>\n",
       "    <tr>\n",
       "      <th>3</th>\n",
       "      <td>2017/0273</td>\n",
       "      <td>Марковић Никола</td>\n",
       "      <td>-1.25</td>\n",
       "      <td>5.00</td>\n",
       "      <td>0.00</td>\n",
       "      <td>-1.25</td>\n",
       "      <td>5.00</td>\n",
       "      <td>7.5</td>\n",
       "    </tr>\n",
       "    <tr>\n",
       "      <th>4</th>\n",
       "      <td>2017/0715</td>\n",
       "      <td>Момчилов Марија</td>\n",
       "      <td>NaN</td>\n",
       "      <td>NaN</td>\n",
       "      <td>NaN</td>\n",
       "      <td>NaN</td>\n",
       "      <td>NaN</td>\n",
       "      <td>NaN</td>\n",
       "    </tr>\n",
       "  </tbody>\n",
       "</table>\n",
       "</div>"
      ],
      "text/plain": [
       "  Број индекса     Презиме и име    П1    П2    П3    П4    П5    П\n",
       "0    1987/0645   Поповић Владица -1.25 -1.25 -1.25  5.00 -1.25  0.0\n",
       "1    2011/0554  Јовановић Стефан  5.00 -1.25  5.00 -1.25  0.00  7.5\n",
       "2    2014/0662     Шушљик Стефан -1.25  5.00 -1.25  5.00  0.00  7.5\n",
       "3    2017/0273   Марковић Никола -1.25  5.00  0.00 -1.25  5.00  7.5\n",
       "4    2017/0715   Момчилов Марија   NaN   NaN   NaN   NaN   NaN  NaN"
      ]
     },
     "execution_count": 3,
     "metadata": {},
     "output_type": "execute_result"
    }
   ],
   "source": [
    "df.head()"
   ]
  },
  {
   "cell_type": "code",
   "execution_count": 4,
   "id": "5c1e543a-682f-4eb7-9de0-c3e0f0e59a79",
   "metadata": {
    "tags": []
   },
   "outputs": [],
   "source": [
    "df = df.dropna()"
   ]
  },
  {
   "cell_type": "code",
   "execution_count": 5,
   "id": "0afb1677-1a53-4212-88ed-0a33a64b6f44",
   "metadata": {
    "tags": []
   },
   "outputs": [
    {
     "data": {
      "text/html": [
       "<div>\n",
       "<style scoped>\n",
       "    .dataframe tbody tr th:only-of-type {\n",
       "        vertical-align: middle;\n",
       "    }\n",
       "\n",
       "    .dataframe tbody tr th {\n",
       "        vertical-align: top;\n",
       "    }\n",
       "\n",
       "    .dataframe thead th {\n",
       "        text-align: right;\n",
       "    }\n",
       "</style>\n",
       "<table border=\"1\" class=\"dataframe\">\n",
       "  <thead>\n",
       "    <tr style=\"text-align: right;\">\n",
       "      <th></th>\n",
       "      <th>Број индекса</th>\n",
       "      <th>Презиме и име</th>\n",
       "      <th>П1</th>\n",
       "      <th>П2</th>\n",
       "      <th>П3</th>\n",
       "      <th>П4</th>\n",
       "      <th>П5</th>\n",
       "      <th>П</th>\n",
       "    </tr>\n",
       "  </thead>\n",
       "  <tbody>\n",
       "    <tr>\n",
       "      <th>0</th>\n",
       "      <td>1987/0645</td>\n",
       "      <td>Поповић Владица</td>\n",
       "      <td>-1.25</td>\n",
       "      <td>-1.25</td>\n",
       "      <td>-1.25</td>\n",
       "      <td>5.00</td>\n",
       "      <td>-1.25</td>\n",
       "      <td>0.0</td>\n",
       "    </tr>\n",
       "    <tr>\n",
       "      <th>1</th>\n",
       "      <td>2011/0554</td>\n",
       "      <td>Јовановић Стефан</td>\n",
       "      <td>5.00</td>\n",
       "      <td>-1.25</td>\n",
       "      <td>5.00</td>\n",
       "      <td>-1.25</td>\n",
       "      <td>0.00</td>\n",
       "      <td>7.5</td>\n",
       "    </tr>\n",
       "    <tr>\n",
       "      <th>2</th>\n",
       "      <td>2014/0662</td>\n",
       "      <td>Шушљик Стефан</td>\n",
       "      <td>-1.25</td>\n",
       "      <td>5.00</td>\n",
       "      <td>-1.25</td>\n",
       "      <td>5.00</td>\n",
       "      <td>0.00</td>\n",
       "      <td>7.5</td>\n",
       "    </tr>\n",
       "    <tr>\n",
       "      <th>3</th>\n",
       "      <td>2017/0273</td>\n",
       "      <td>Марковић Никола</td>\n",
       "      <td>-1.25</td>\n",
       "      <td>5.00</td>\n",
       "      <td>0.00</td>\n",
       "      <td>-1.25</td>\n",
       "      <td>5.00</td>\n",
       "      <td>7.5</td>\n",
       "    </tr>\n",
       "    <tr>\n",
       "      <th>5</th>\n",
       "      <td>2018/0344</td>\n",
       "      <td>Макљеновић Алекса</td>\n",
       "      <td>5.00</td>\n",
       "      <td>0.00</td>\n",
       "      <td>5.00</td>\n",
       "      <td>5.00</td>\n",
       "      <td>5.00</td>\n",
       "      <td>20.0</td>\n",
       "    </tr>\n",
       "  </tbody>\n",
       "</table>\n",
       "</div>"
      ],
      "text/plain": [
       "  Број индекса      Презиме и име    П1    П2    П3    П4    П5     П\n",
       "0    1987/0645    Поповић Владица -1.25 -1.25 -1.25  5.00 -1.25   0.0\n",
       "1    2011/0554   Јовановић Стефан  5.00 -1.25  5.00 -1.25  0.00   7.5\n",
       "2    2014/0662      Шушљик Стефан -1.25  5.00 -1.25  5.00  0.00   7.5\n",
       "3    2017/0273    Марковић Никола -1.25  5.00  0.00 -1.25  5.00   7.5\n",
       "5    2018/0344  Макљеновић Алекса  5.00  0.00  5.00  5.00  5.00  20.0"
      ]
     },
     "execution_count": 5,
     "metadata": {},
     "output_type": "execute_result"
    }
   ],
   "source": [
    "df.head()"
   ]
  },
  {
   "cell_type": "code",
   "execution_count": 6,
   "id": "8a1fd0b8-21fa-4640-8eab-84cb739c6382",
   "metadata": {
    "tags": []
   },
   "outputs": [],
   "source": [
    "df1 = df.loc[df['П'] == 20.0]"
   ]
  },
  {
   "cell_type": "code",
   "execution_count": 7,
   "id": "3e216add-7676-4329-a45e-eed574144ca6",
   "metadata": {
    "tags": []
   },
   "outputs": [
    {
     "data": {
      "text/html": [
       "<div>\n",
       "<style scoped>\n",
       "    .dataframe tbody tr th:only-of-type {\n",
       "        vertical-align: middle;\n",
       "    }\n",
       "\n",
       "    .dataframe tbody tr th {\n",
       "        vertical-align: top;\n",
       "    }\n",
       "\n",
       "    .dataframe thead th {\n",
       "        text-align: right;\n",
       "    }\n",
       "</style>\n",
       "<table border=\"1\" class=\"dataframe\">\n",
       "  <thead>\n",
       "    <tr style=\"text-align: right;\">\n",
       "      <th></th>\n",
       "      <th>Број индекса</th>\n",
       "      <th>Презиме и име</th>\n",
       "      <th>П1</th>\n",
       "      <th>П2</th>\n",
       "      <th>П3</th>\n",
       "      <th>П4</th>\n",
       "      <th>П5</th>\n",
       "      <th>П</th>\n",
       "    </tr>\n",
       "  </thead>\n",
       "  <tbody>\n",
       "    <tr>\n",
       "      <th>5</th>\n",
       "      <td>2018/0344</td>\n",
       "      <td>Макљеновић Алекса</td>\n",
       "      <td>5.0</td>\n",
       "      <td>0.0</td>\n",
       "      <td>5.0</td>\n",
       "      <td>5.0</td>\n",
       "      <td>5.0</td>\n",
       "      <td>20.0</td>\n",
       "    </tr>\n",
       "    <tr>\n",
       "      <th>60</th>\n",
       "      <td>2022/0002</td>\n",
       "      <td>Поповић Петар</td>\n",
       "      <td>5.0</td>\n",
       "      <td>5.0</td>\n",
       "      <td>0.0</td>\n",
       "      <td>5.0</td>\n",
       "      <td>5.0</td>\n",
       "      <td>20.0</td>\n",
       "    </tr>\n",
       "    <tr>\n",
       "      <th>78</th>\n",
       "      <td>2022/0027</td>\n",
       "      <td>Продановић Анђела</td>\n",
       "      <td>0.0</td>\n",
       "      <td>5.0</td>\n",
       "      <td>5.0</td>\n",
       "      <td>5.0</td>\n",
       "      <td>5.0</td>\n",
       "      <td>20.0</td>\n",
       "    </tr>\n",
       "    <tr>\n",
       "      <th>113</th>\n",
       "      <td>2022/0081</td>\n",
       "      <td>Стојановић Анастасија</td>\n",
       "      <td>5.0</td>\n",
       "      <td>5.0</td>\n",
       "      <td>0.0</td>\n",
       "      <td>5.0</td>\n",
       "      <td>5.0</td>\n",
       "      <td>20.0</td>\n",
       "    </tr>\n",
       "    <tr>\n",
       "      <th>120</th>\n",
       "      <td>2022/0090</td>\n",
       "      <td>Беновић Томислав</td>\n",
       "      <td>5.0</td>\n",
       "      <td>5.0</td>\n",
       "      <td>0.0</td>\n",
       "      <td>5.0</td>\n",
       "      <td>5.0</td>\n",
       "      <td>20.0</td>\n",
       "    </tr>\n",
       "    <tr>\n",
       "      <th>151</th>\n",
       "      <td>2022/0130</td>\n",
       "      <td>Брадић Павле</td>\n",
       "      <td>5.0</td>\n",
       "      <td>5.0</td>\n",
       "      <td>5.0</td>\n",
       "      <td>5.0</td>\n",
       "      <td>0.0</td>\n",
       "      <td>20.0</td>\n",
       "    </tr>\n",
       "    <tr>\n",
       "      <th>166</th>\n",
       "      <td>2022/0154</td>\n",
       "      <td>Томашевић Анђела</td>\n",
       "      <td>5.0</td>\n",
       "      <td>5.0</td>\n",
       "      <td>0.0</td>\n",
       "      <td>5.0</td>\n",
       "      <td>5.0</td>\n",
       "      <td>20.0</td>\n",
       "    </tr>\n",
       "    <tr>\n",
       "      <th>172</th>\n",
       "      <td>2022/0162</td>\n",
       "      <td>Аврамовић Петра</td>\n",
       "      <td>5.0</td>\n",
       "      <td>5.0</td>\n",
       "      <td>0.0</td>\n",
       "      <td>5.0</td>\n",
       "      <td>5.0</td>\n",
       "      <td>20.0</td>\n",
       "    </tr>\n",
       "    <tr>\n",
       "      <th>195</th>\n",
       "      <td>2022/0191</td>\n",
       "      <td>Андрић Ђорђе</td>\n",
       "      <td>5.0</td>\n",
       "      <td>5.0</td>\n",
       "      <td>5.0</td>\n",
       "      <td>0.0</td>\n",
       "      <td>5.0</td>\n",
       "      <td>20.0</td>\n",
       "    </tr>\n",
       "    <tr>\n",
       "      <th>270</th>\n",
       "      <td>2022/0301</td>\n",
       "      <td>Томић Михајло</td>\n",
       "      <td>5.0</td>\n",
       "      <td>5.0</td>\n",
       "      <td>0.0</td>\n",
       "      <td>5.0</td>\n",
       "      <td>5.0</td>\n",
       "      <td>20.0</td>\n",
       "    </tr>\n",
       "    <tr>\n",
       "      <th>284</th>\n",
       "      <td>2022/0329</td>\n",
       "      <td>Гојковић Нађа</td>\n",
       "      <td>5.0</td>\n",
       "      <td>0.0</td>\n",
       "      <td>5.0</td>\n",
       "      <td>5.0</td>\n",
       "      <td>5.0</td>\n",
       "      <td>20.0</td>\n",
       "    </tr>\n",
       "    <tr>\n",
       "      <th>330</th>\n",
       "      <td>2022/0408</td>\n",
       "      <td>Ковачевић Лазар</td>\n",
       "      <td>5.0</td>\n",
       "      <td>5.0</td>\n",
       "      <td>5.0</td>\n",
       "      <td>5.0</td>\n",
       "      <td>5.0</td>\n",
       "      <td>20.0</td>\n",
       "    </tr>\n",
       "    <tr>\n",
       "      <th>396</th>\n",
       "      <td>2022/0497</td>\n",
       "      <td>Рудан Горана</td>\n",
       "      <td>5.0</td>\n",
       "      <td>5.0</td>\n",
       "      <td>0.0</td>\n",
       "      <td>5.0</td>\n",
       "      <td>5.0</td>\n",
       "      <td>20.0</td>\n",
       "    </tr>\n",
       "    <tr>\n",
       "      <th>508</th>\n",
       "      <td>2022/0660</td>\n",
       "      <td>Тришић Јана</td>\n",
       "      <td>5.0</td>\n",
       "      <td>5.0</td>\n",
       "      <td>5.0</td>\n",
       "      <td>0.0</td>\n",
       "      <td>5.0</td>\n",
       "      <td>20.0</td>\n",
       "    </tr>\n",
       "    <tr>\n",
       "      <th>509</th>\n",
       "      <td>2022/0661</td>\n",
       "      <td>Мишић Андрија</td>\n",
       "      <td>0.0</td>\n",
       "      <td>5.0</td>\n",
       "      <td>5.0</td>\n",
       "      <td>5.0</td>\n",
       "      <td>5.0</td>\n",
       "      <td>20.0</td>\n",
       "    </tr>\n",
       "  </tbody>\n",
       "</table>\n",
       "</div>"
      ],
      "text/plain": [
       "    Број индекса          Презиме и име   П1   П2   П3   П4   П5     П\n",
       "5      2018/0344      Макљеновић Алекса  5.0  0.0  5.0  5.0  5.0  20.0\n",
       "60     2022/0002          Поповић Петар  5.0  5.0  0.0  5.0  5.0  20.0\n",
       "78     2022/0027      Продановић Анђела  0.0  5.0  5.0  5.0  5.0  20.0\n",
       "113    2022/0081  Стојановић Анастасија  5.0  5.0  0.0  5.0  5.0  20.0\n",
       "120    2022/0090       Беновић Томислав  5.0  5.0  0.0  5.0  5.0  20.0\n",
       "151    2022/0130           Брадић Павле  5.0  5.0  5.0  5.0  0.0  20.0\n",
       "166    2022/0154       Томашевић Анђела  5.0  5.0  0.0  5.0  5.0  20.0\n",
       "172    2022/0162        Аврамовић Петра  5.0  5.0  0.0  5.0  5.0  20.0\n",
       "195    2022/0191           Андрић Ђорђе  5.0  5.0  5.0  0.0  5.0  20.0\n",
       "270    2022/0301          Томић Михајло  5.0  5.0  0.0  5.0  5.0  20.0\n",
       "284    2022/0329          Гојковић Нађа  5.0  0.0  5.0  5.0  5.0  20.0\n",
       "330    2022/0408        Ковачевић Лазар  5.0  5.0  5.0  5.0  5.0  20.0\n",
       "396    2022/0497           Рудан Горана  5.0  5.0  0.0  5.0  5.0  20.0\n",
       "508    2022/0660            Тришић Јана  5.0  5.0  5.0  0.0  5.0  20.0\n",
       "509    2022/0661          Мишић Андрија  0.0  5.0  5.0  5.0  5.0  20.0"
      ]
     },
     "execution_count": 7,
     "metadata": {},
     "output_type": "execute_result"
    }
   ],
   "source": [
    "df1"
   ]
  },
  {
   "cell_type": "code",
   "execution_count": 8,
   "id": "be25fb68-16bf-4c99-babf-5b7e46945e44",
   "metadata": {
    "tags": []
   },
   "outputs": [
    {
     "data": {
      "text/plain": [
       "15"
      ]
     },
     "execution_count": 8,
     "metadata": {},
     "output_type": "execute_result"
    }
   ],
   "source": [
    "ljudi_20 = len(df1['П'])\n",
    "ljudi_20"
   ]
  },
  {
   "cell_type": "code",
   "execution_count": 9,
   "id": "0741b5c7-018f-471c-9dfb-5462bffa70f9",
   "metadata": {
    "tags": []
   },
   "outputs": [
    {
     "data": {
      "text/plain": [
       "15"
      ]
     },
     "execution_count": 9,
     "metadata": {},
     "output_type": "execute_result"
    }
   ],
   "source": [
    "ljudi_18_75 = len(df.loc[df['П'] == 18.75, 'П'])\n",
    "ljudi_18_75"
   ]
  },
  {
   "cell_type": "code",
   "execution_count": 10,
   "id": "3bbd0b02-1908-4f90-b6cd-be39400fd7f5",
   "metadata": {
    "tags": []
   },
   "outputs": [
    {
     "data": {
      "text/plain": [
       "6"
      ]
     },
     "execution_count": 10,
     "metadata": {},
     "output_type": "execute_result"
    }
   ],
   "source": [
    "ljudi_15 = len(df.loc[df['П'] == 15, 'П'])\n",
    "ljudi_15"
   ]
  },
  {
   "cell_type": "code",
   "execution_count": 11,
   "id": "bb2eb034-3984-43d6-8cae-7e3183a7f3f2",
   "metadata": {
    "tags": []
   },
   "outputs": [
    {
     "data": {
      "text/plain": [
       "55"
      ]
     },
     "execution_count": 11,
     "metadata": {},
     "output_type": "execute_result"
    }
   ],
   "source": [
    "ljudi_13_75 = len(df.loc[df['П'] == 13.75, 'П'])\n",
    "ljudi_13_75"
   ]
  },
  {
   "cell_type": "code",
   "execution_count": 12,
   "id": "c6eddd7b-5c2e-4e25-a1cd-0d1faed2c468",
   "metadata": {
    "tags": []
   },
   "outputs": [
    {
     "data": {
      "text/plain": [
       "45"
      ]
     },
     "execution_count": 12,
     "metadata": {},
     "output_type": "execute_result"
    }
   ],
   "source": [
    "ljudi_12_5 = len(df.loc[df['П'] == 12.5, 'П'])\n",
    "ljudi_12_5"
   ]
  },
  {
   "cell_type": "code",
   "execution_count": 13,
   "id": "240be018-f715-40b0-9377-570be09a9a50",
   "metadata": {
    "tags": []
   },
   "outputs": [
    {
     "data": {
      "text/plain": [
       "86"
      ]
     },
     "execution_count": 13,
     "metadata": {},
     "output_type": "execute_result"
    }
   ],
   "source": [
    "ljudi_1_25 = len(df.loc[df['П'] == 1.25, 'П'])\n",
    "ljudi_1_25"
   ]
  },
  {
   "cell_type": "code",
   "execution_count": 14,
   "id": "9b4e773b-8cde-4f8c-8394-49be6e92867b",
   "metadata": {
    "tags": []
   },
   "outputs": [
    {
     "data": {
      "text/plain": [
       "94"
      ]
     },
     "execution_count": 14,
     "metadata": {},
     "output_type": "execute_result"
    }
   ],
   "source": [
    "ljudi_0 = len(df.loc[df['П'] == 0, 'П'])\n",
    "ljudi_0"
   ]
  },
  {
   "cell_type": "code",
   "execution_count": 15,
   "id": "dc523f27-d4f1-4109-a911-0422dc4ca609",
   "metadata": {
    "tags": []
   },
   "outputs": [
    {
     "data": {
      "text/plain": [
       "563"
      ]
     },
     "execution_count": 15,
     "metadata": {},
     "output_type": "execute_result"
    }
   ],
   "source": [
    "svi = len(df['П'])\n",
    "svi"
   ]
  },
  {
   "cell_type": "code",
   "execution_count": 16,
   "id": "ead7ba7b-ff35-4795-8d6b-93eb6683c048",
   "metadata": {
    "tags": []
   },
   "outputs": [
    {
     "data": {
      "text/plain": [
       "2.664298401420959"
      ]
     },
     "execution_count": 16,
     "metadata": {},
     "output_type": "execute_result"
    }
   ],
   "source": [
    "procenat_20 = (ljudi_20 / svi) * 100\n",
    "procenat_20"
   ]
  },
  {
   "cell_type": "code",
   "execution_count": 17,
   "id": "75d3dff3-80fd-4e17-9619-b207975cf6a7",
   "metadata": {
    "tags": []
   },
   "outputs": [
    {
     "data": {
      "text/plain": [
       "2.664298401420959"
      ]
     },
     "execution_count": 17,
     "metadata": {},
     "output_type": "execute_result"
    }
   ],
   "source": [
    "procenat_18_75 = (ljudi_18_75 / svi) * 100\n",
    "procenat_18_75"
   ]
  },
  {
   "cell_type": "code",
   "execution_count": 18,
   "id": "9fe08271-9dc7-486e-91c8-8ea70d36689b",
   "metadata": {
    "tags": []
   },
   "outputs": [
    {
     "data": {
      "text/plain": [
       "9.769094138543517"
      ]
     },
     "execution_count": 18,
     "metadata": {},
     "output_type": "execute_result"
    }
   ],
   "source": [
    "procenat_13_75 = (ljudi_13_75 / svi) * 100\n",
    "procenat_13_75"
   ]
  },
  {
   "cell_type": "code",
   "execution_count": 19,
   "id": "42350576-e6b4-4896-b858-da70908a8d33",
   "metadata": {
    "tags": []
   },
   "outputs": [
    {
     "data": {
      "text/plain": [
       "7.992895204262878"
      ]
     },
     "execution_count": 19,
     "metadata": {},
     "output_type": "execute_result"
    }
   ],
   "source": [
    "procenat_12_5 = (ljudi_12_5 / svi) * 100\n",
    "procenat_12_5"
   ]
  },
  {
   "cell_type": "code",
   "execution_count": 20,
   "id": "6d2a4e4a-f32e-43e4-a4a7-977ee987821f",
   "metadata": {
    "tags": []
   },
   "outputs": [
    {
     "data": {
      "text/plain": [
       "15.2753108348135"
      ]
     },
     "execution_count": 20,
     "metadata": {},
     "output_type": "execute_result"
    }
   ],
   "source": [
    "procenat_1_25 = (ljudi_1_25 / svi) * 100\n",
    "procenat_1_25"
   ]
  },
  {
   "cell_type": "code",
   "execution_count": 21,
   "id": "e872b489-0660-4895-858f-0d7e91750d50",
   "metadata": {
    "tags": []
   },
   "outputs": [
    {
     "data": {
      "text/plain": [
       "16.69626998223801"
      ]
     },
     "execution_count": 21,
     "metadata": {},
     "output_type": "execute_result"
    }
   ],
   "source": [
    "procenat_0 = (ljudi_0 / svi) * 100\n",
    "procenat_0"
   ]
  },
  {
   "cell_type": "code",
   "execution_count": null,
   "id": "6c5d253f-8707-411f-b3d4-850136f0315a",
   "metadata": {},
   "outputs": [],
   "source": [
    "prosecni_svi = (sum(df[]))/(svi)"
   ]
  }
 ],
 "metadata": {
  "kernelspec": {
   "display_name": "Python 3 (ipykernel)",
   "language": "python",
   "name": "python3"
  },
  "language_info": {
   "codemirror_mode": {
    "name": "ipython",
    "version": 3
   },
   "file_extension": ".py",
   "mimetype": "text/x-python",
   "name": "python",
   "nbconvert_exporter": "python",
   "pygments_lexer": "ipython3",
   "version": "3.7.8"
  }
 },
 "nbformat": 4,
 "nbformat_minor": 5
}
